{
  "nbformat": 4,
  "nbformat_minor": 0,
  "metadata": {
    "colab": {
      "name": "getFeature.ipynb",
      "provenance": [],
      "collapsed_sections": [
        "4hsUc92ESc6d"
      ],
      "authorship_tag": "ABX9TyObYMdIvRfyhliMqwrw+Q/c",
      "include_colab_link": true
    },
    "kernelspec": {
      "name": "python3",
      "display_name": "Python 3"
    },
    "language_info": {
      "name": "python"
    }
  },
  "cells": [
    {
      "cell_type": "markdown",
      "metadata": {
        "id": "view-in-github",
        "colab_type": "text"
      },
      "source": [
        "<a href=\"https://colab.research.google.com/github/malinaafemi/skripsi-malina/blob/main/getFeature.ipynb\" target=\"_parent\"><img src=\"https://colab.research.google.com/assets/colab-badge.svg\" alt=\"Open In Colab\"/></a>"
      ]
    },
    {
      "cell_type": "code",
      "execution_count": 1,
      "metadata": {
        "colab": {
          "base_uri": "https://localhost:8080/"
        },
        "id": "uzVGPX_luxqk",
        "outputId": "455397b5-fb47-4d25-a546-027be1482d5b"
      },
      "outputs": [
        {
          "output_type": "stream",
          "name": "stdout",
          "text": [
            "Mounted at /content/gdrive\n"
          ]
        }
      ],
      "source": [
        "from google.colab import drive\n",
        "drive.mount('/content/gdrive')"
      ]
    },
    {
      "cell_type": "code",
      "source": [
        "pip install jsonpickle"
      ],
      "metadata": {
        "colab": {
          "base_uri": "https://localhost:8080/"
        },
        "id": "qZIExd5mu234",
        "outputId": "33183e91-f460-49c7-b730-b4b32819287d"
      },
      "execution_count": 2,
      "outputs": [
        {
          "output_type": "stream",
          "name": "stdout",
          "text": [
            "Looking in indexes: https://pypi.org/simple, https://us-python.pkg.dev/colab-wheels/public/simple/\n",
            "Collecting jsonpickle\n",
            "  Downloading jsonpickle-2.2.0-py2.py3-none-any.whl (39 kB)\n",
            "Requirement already satisfied: importlib-metadata in /usr/local/lib/python3.7/dist-packages (from jsonpickle) (4.11.4)\n",
            "Requirement already satisfied: zipp>=0.5 in /usr/local/lib/python3.7/dist-packages (from importlib-metadata->jsonpickle) (3.8.0)\n",
            "Requirement already satisfied: typing-extensions>=3.6.4 in /usr/local/lib/python3.7/dist-packages (from importlib-metadata->jsonpickle) (4.1.1)\n",
            "Installing collected packages: jsonpickle\n",
            "Successfully installed jsonpickle-2.2.0\n"
          ]
        }
      ]
    },
    {
      "cell_type": "code",
      "source": [
        "pip install textblob"
      ],
      "metadata": {
        "colab": {
          "base_uri": "https://localhost:8080/"
        },
        "id": "zGir5tC9vARI",
        "outputId": "d4eec171-b589-424a-99f5-92499dd57ea9"
      },
      "execution_count": 3,
      "outputs": [
        {
          "output_type": "stream",
          "name": "stdout",
          "text": [
            "Looking in indexes: https://pypi.org/simple, https://us-python.pkg.dev/colab-wheels/public/simple/\n",
            "Requirement already satisfied: textblob in /usr/local/lib/python3.7/dist-packages (0.15.3)\n",
            "Requirement already satisfied: nltk>=3.1 in /usr/local/lib/python3.7/dist-packages (from textblob) (3.7)\n",
            "Requirement already satisfied: regex>=2021.8.3 in /usr/local/lib/python3.7/dist-packages (from nltk>=3.1->textblob) (2022.6.2)\n",
            "Requirement already satisfied: tqdm in /usr/local/lib/python3.7/dist-packages (from nltk>=3.1->textblob) (4.64.0)\n",
            "Requirement already satisfied: click in /usr/local/lib/python3.7/dist-packages (from nltk>=3.1->textblob) (7.1.2)\n",
            "Requirement already satisfied: joblib in /usr/local/lib/python3.7/dist-packages (from nltk>=3.1->textblob) (1.1.0)\n"
          ]
        }
      ]
    },
    {
      "cell_type": "code",
      "source": [
        "import sys\n",
        "import jsonpickle\n",
        "import os\n",
        "import tweepy\n",
        "import nltk\n",
        "import pandas as pd\n",
        "import json\n",
        "from pandas import json_normalize\n",
        "from datetime import datetime, timezone\n",
        "import numpy as np\n",
        "import re\n",
        "import seaborn as sns\n",
        "import matplotlib.pyplot as plt\n",
        "import time\n",
        "import pickle\n",
        "import collections\n",
        "import math\n",
        "import urllib\n",
        "import nltk\n",
        "from nltk.corpus import stopwords\n",
        "from difflib import SequenceMatcher\n",
        "import nltk\n",
        "nltk.download('punkt')\n",
        "nltk.download('stopwords')"
      ],
      "metadata": {
        "colab": {
          "base_uri": "https://localhost:8080/"
        },
        "id": "h74sofn2vCKZ",
        "outputId": "4b9e10c3-d4f9-4aa9-bb0b-7ad9fe5a3fbe"
      },
      "execution_count": 4,
      "outputs": [
        {
          "output_type": "stream",
          "name": "stderr",
          "text": [
            "[nltk_data] Downloading package punkt to /root/nltk_data...\n",
            "[nltk_data]   Unzipping tokenizers/punkt.zip.\n",
            "[nltk_data] Downloading package stopwords to /root/nltk_data...\n",
            "[nltk_data]   Unzipping corpora/stopwords.zip.\n"
          ]
        },
        {
          "output_type": "execute_result",
          "data": {
            "text/plain": [
              "True"
            ]
          },
          "metadata": {},
          "execution_count": 4
        }
      ]
    },
    {
      "cell_type": "code",
      "source": [
        "#load data\n",
        "with open('/content/gdrive/MyDrive/dataFinal/bot_dict.pkl', 'rb') as f:\n",
        "    bot_dict = pickle.load(f)"
      ],
      "metadata": {
        "id": "7N67OZXHvEDv"
      },
      "execution_count": 5,
      "outputs": []
    },
    {
      "cell_type": "code",
      "source": [
        "#load data\n",
        "with open('/content/gdrive/MyDrive/dataFinal/lu_dict.pkl', 'rb') as f:\n",
        "    lu_dict = pickle.load(f)"
      ],
      "metadata": {
        "id": "cLJ9Uj4-WO6n"
      },
      "execution_count": 6,
      "outputs": []
    },
    {
      "cell_type": "markdown",
      "source": [
        "![](https://drive.google.com/uc?export=view&id=13A4wC6lvHoSDMS9P6z2XE5mZW3nnF4f_)"
      ],
      "metadata": {
        "id": "_aX2-Doxu3jA"
      }
    },
    {
      "cell_type": "markdown",
      "source": [
        "![](https://drive.google.com/uc?export=view&id=1u71_U4mqXuk_XlQBRb6mW0hvLkLNylCh)"
      ],
      "metadata": {
        "id": "7hTM2sxszXZ-"
      }
    },
    {
      "cell_type": "code",
      "source": [
        "# UserID\n",
        "def user_id(df):\n",
        "    try:\n",
        "        return str(df['id_str'])\n",
        "    except:\n",
        "        return None\n",
        "\n",
        "# ScreenNameLen\n",
        "def sname_len(df):\n",
        "    try:\n",
        "        return len(df['screen_name'])\n",
        "    except:\n",
        "        return None\n",
        "\n",
        "# DigitsCountInName\n",
        "def sname_digits(df):\n",
        "    try:\n",
        "        return sum(c.isdigit() for c in df['screen_name'])\n",
        "    except:\n",
        "        return None\n",
        "\n",
        "# UserNameLen\n",
        "def name_len(df):\n",
        "    try: \n",
        "        return len(df['name'])\n",
        "    except:\n",
        "        return None\n",
        "\n",
        "# AccountAge\n",
        "def acc_age(df):\n",
        "    try:\n",
        "        d0 = datetime.strptime(df['created_at'],\"%Y-%m-%d %H:%M:%S\")\n",
        "        d1 = datetime.strptime('2022-07-07 15:14:56',\"%Y-%m-%d %H:%M:%S\")\n",
        "\n",
        "        return (d1-d0).days\n",
        "    except:\n",
        "        return None\n",
        "\n",
        "# FriendsCount\n",
        "def user_friends(df):\n",
        "    try:\n",
        "        return df['friends_count']\n",
        "    except: \n",
        "        return None\n",
        "\n",
        "# FollowersCount\n",
        "def user_followers(df):\n",
        "    try:\n",
        "        return df['followers_count']\n",
        "    except: \n",
        "        return None\n",
        "\n",
        "# FavoritesCount\n",
        "def user_fav(df):\n",
        "    try:\n",
        "        return df['favourites_count']\n",
        "    except:\n",
        "        return None\n",
        "\n",
        "# StatusesCount\n",
        "def user_statuses(df):\n",
        "    try:\n",
        "        return df['statuses_count']\n",
        "    except: \n",
        "        return None\n",
        "\n",
        "# TweetLen\n",
        "def tweet_len(df):\n",
        "    try:\n",
        "        return len(df['full_text'])\n",
        "    except:\n",
        "        return None\n",
        "\n",
        "# RawTweets\n",
        "def raw_tweet(df):\n",
        "    try:\n",
        "        return df['full_text']\n",
        "    except:\n",
        "        return None\n",
        "\n",
        "# Friendship\n",
        "def friendship(df):\n",
        "    try:\n",
        "        return df['friends_count']/df['followers_count']\n",
        "    except:\n",
        "        return None\n",
        "\n",
        "# Followership\n",
        "def followership(df):\n",
        "    try:\n",
        "        return df['followers_count']/df['friends_count']\n",
        "    except:\n",
        "        return None\n",
        "\n",
        "# Interestingness\n",
        "def interest(df):\n",
        "    try:\n",
        "        return df['favourites_count']/df['statuses_count']\n",
        "    except:\n",
        "        return None\n",
        "\n",
        "# Activeness\n",
        "def activeness(df):\n",
        "    try:\n",
        "        d0 = datetime.strptime(df['created_at'],\"%Y-%m-%d %H:%M:%S\")\n",
        "        d1 = datetime.strptime('2022-07-07 15:14:56',\"%Y-%m-%d %H:%M:%S\")\n",
        "        return df['statuses_count']/(d1-d0).days\n",
        "    except:\n",
        "        return None\n",
        "\n",
        "# NamesRatio\n",
        "def name_ratio(df):\n",
        "    try:\n",
        "        return len(df['screen_name'])/len(df['name'])\n",
        "    except:\n",
        "        return None\n",
        "\n",
        "# LexRichWithUU\n",
        "def lex_richness(df):\n",
        "    try:\n",
        "        tokens = nltk.word_tokenize(df['full_text'])\n",
        "        ut = set(nltk.word_tokenize(df['full_text']))\n",
        "        return (len(ut)/float(len(tokens)))*100\n",
        "    except:\n",
        "        return None\n",
        "\n",
        "# TweetRandomness\n",
        "def tweet_randomness(df):\n",
        "    try:\n",
        "      text_len = len(df['full_text'])\n",
        "      bases = collections.Counter([i for i in df['full_text']])\n",
        "\n",
        "      shannon_entropy_value = 0\n",
        "      for base in bases:\n",
        "        n_i = bases[base]\n",
        "        p_i = n_i / float(text_len)\n",
        "        entropy_i = p_i * (math.log(p_i, 2))\n",
        "        shannon_entropy_value += entropy_i\n",
        "\n",
        "      return (shannon_entropy_value * -1)/text_len\n",
        "    except:\n",
        "        return None\n",
        "\n",
        "# DescRandomness\n",
        "def desc_randomness(df):\n",
        "    try:\n",
        "      text_len = len(df['description'])\n",
        "      bases = collections.Counter([i for i in df['description']])\n",
        "\n",
        "      shannon_entropy_value = 0\n",
        "      for base in bases:\n",
        "        n_i = bases[base]\n",
        "        p_i = n_i / float(text_len)\n",
        "        entropy_i = p_i * (math.log(p_i, 2))\n",
        "        shannon_entropy_value += entropy_i\n",
        "\n",
        "      return (shannon_entropy_value * -1)/text_len\n",
        "    except:\n",
        "        return None\n",
        "\n",
        "# UserNameRandomness\n",
        "def name_randomness(df):\n",
        "    try:\n",
        "      text_len = len(df['name'])\n",
        "      bases = collections.Counter([i for i in df['name']])\n",
        "\n",
        "      shannon_entropy_value = 0\n",
        "      for base in bases:\n",
        "        n_i = bases[base]\n",
        "        p_i = n_i / float(text_len)\n",
        "        entropy_i = p_i * (math.log(p_i, 2))\n",
        "        shannon_entropy_value += entropy_i\n",
        "\n",
        "      return (shannon_entropy_value * -1)/text_len\n",
        "    except:\n",
        "        return None\n",
        "\n",
        "# ScreenNameRandomness\n",
        "def sname_randomness(df):\n",
        "      try:\n",
        "        text_len = len(df['screen_name'])\n",
        "        bases = collections.Counter([i for i in df['screen_name']])\n",
        "\n",
        "        shannon_entropy_value = 0\n",
        "        for base in bases:\n",
        "          n_i = bases[base]\n",
        "          p_i = n_i / float(text_len)\n",
        "          entropy_i = p_i * (math.log(p_i, 2))\n",
        "          shannon_entropy_value += entropy_i\n",
        "\n",
        "        return (shannon_entropy_value * -1)/text_len\n",
        "      except:\n",
        "        return None\n",
        "\n",
        "# URLsRatio\n",
        "def url_ratio(df):\n",
        "    try:\n",
        "        urls = re.findall(\"http[s]?://(?:[a-zA-Z]|[0-9]|[$-_@.&+]|[!*\\(\\),]|(?:%[0-9a-fA-F][0-9a-fA-F]))+\", df['full_text'])\n",
        "        url_char = 0\n",
        "        for url in urls:\n",
        "          url_char += len(url)\n",
        "        return url_char/len(df['full_text'])\n",
        "    except:\n",
        "        return None\n",
        "\n",
        "# MentionsRatio\n",
        "def mention_ratio(df):\n",
        "    try:\n",
        "        mentions = re.findall(\"@([a-zA-Z0-9_]{1,50})\", df['full_text'])\n",
        "        mention_char = 0\n",
        "        for mention in mentions:\n",
        "          mention_char += len(mention)\n",
        "        return mention_char/len(df['full_text'])\n",
        "    except:\n",
        "        return None\n",
        "# NameSim\n",
        "def name_sim(df):\n",
        "    try:\n",
        "        simScore = SequenceMatcher(None, df['name'], df['screen_name']).ratio()\n",
        "        return simScore*100\n",
        "    except:\n",
        "        return None"
      ],
      "metadata": {
        "id": "U4VnQPZYvaPe"
      },
      "execution_count": 9,
      "outputs": []
    },
    {
      "cell_type": "code",
      "source": [
        "from pandas.core.frame import DataFrame\n",
        "# Given a dictionary of dataframes with one dataframe for each user\n",
        "# this function processes the data and extracted all the user-related features\n",
        "# and saves it to a dataframe with one row for each user\n",
        "\n",
        "def create_df(user_dfs, filename):\n",
        "    columns_lst = ['UserID','AccountAge', 'FollowersCount', 'FriendsCount', 'StatusesCount', 'DigitsCountInName','TweetLen','UserNameLen', 'ScreenNameLen','TweetRandomness','DescRandomness','NameRandomness','SNameRandomness','LexRichWithUU','Friendship','Followership','Interestingness','Activeness','FavoritesCount','NamesRatio', 'UrlRatio', 'MentionRatio', 'NameSim']\n",
        "\n",
        "    # Create user dataframe\n",
        "    user_full_df = pd.DataFrame(columns = columns_lst)\n",
        "    count = 0\n",
        "    for name in user_dfs.keys():\n",
        "        df = user_dfs[name]\n",
        "        data = [user_id(df), acc_age(df), user_followers(df), user_friends(df), user_statuses(df), sname_digits(df), tweet_len(df), name_len(df), sname_len(df), tweet_randomness(df), desc_randomness(df), name_randomness(df), sname_randomness(df), lex_richness(df), friendship(df), followership(df), interest(df), activeness(df), user_fav(df), name_ratio(df), url_ratio(df), mention_ratio(df), name_sim(df)]\n",
        "        user_full_df.loc[count] = data\n",
        "        count += 1\n",
        "\n",
        "    user_full_df = user_full_df.dropna()\n",
        "    user_full_df = user_full_df.reset_index(drop=True)\n",
        "    user_full_df.to_csv(filename+'.csv', encoding='utf-8', index=False)\n",
        "    user_full_df.to_json(filename+'.json', orient='records', lines=True)\n",
        "    return user_full_df"
      ],
      "metadata": {
        "id": "TuVMWN01wnp5"
      },
      "execution_count": 10,
      "outputs": []
    },
    {
      "cell_type": "code",
      "source": [
        "bot_full_df = create_df(bot_dict, 'bot_full_df')"
      ],
      "metadata": {
        "id": "oN7gur_Gw0OL"
      },
      "execution_count": 11,
      "outputs": []
    },
    {
      "cell_type": "code",
      "source": [
        "bot_full_df"
      ],
      "metadata": {
        "colab": {
          "base_uri": "https://localhost:8080/",
          "height": 487
        },
        "id": "yRHkBi65XkNv",
        "outputId": "fb8478e2-7707-4417-e301-ff24233e9659"
      },
      "execution_count": 14,
      "outputs": [
        {
          "output_type": "execute_result",
          "data": {
            "text/plain": [
              "                  UserID AccountAge FollowersCount FriendsCount StatusesCount  \\\n",
              "0    1305152759625166848        662             70           13          9966   \n",
              "1    1369694586294075393        483            391          957           917   \n",
              "2    1531613498920550403         37             10           20            52   \n",
              "3              390588121       3919             77          225          1049   \n",
              "4    1456880622291456001        243             18          285           996   \n",
              "..                   ...        ...            ...          ...           ...   \n",
              "141  1378181226993840131        460           2840         2840          9253   \n",
              "142  1398535592460255233        404              2           58            63   \n",
              "143   820561652168830976       1999             21          339           409   \n",
              "144  1493556582604750848        142            239           11         11933   \n",
              "145  1067955300538318854       1316           1231          523        508221   \n",
              "\n",
              "    DigitsCountInName TweetLen UserNameLen ScreenNameLen  TweetRandomness  \\\n",
              "0                   0      198          14            13         0.024336   \n",
              "1                   0      212           7            15         0.023765   \n",
              "2                   2      155           9            11         0.034003   \n",
              "3                   0       76           4             7         0.060785   \n",
              "4                   0       31           3            10         0.143674   \n",
              "..                ...      ...         ...           ...              ...   \n",
              "141                 0       69          10             7         0.065228   \n",
              "142                 0      274          10             7         0.017427   \n",
              "143                 0      248          14            12         0.020859   \n",
              "144                 0      269          12             9         0.018165   \n",
              "145                 1      278           4            13         0.018415   \n",
              "\n",
              "     ... LexRichWithUU  Friendship  Followership  Interestingness  Activeness  \\\n",
              "0    ...     72.727273    0.185714      5.384615         0.006221   15.054381   \n",
              "1    ...     66.666667     2.44757      0.408568         0.008724    1.898551   \n",
              "2    ...     86.956522         2.0           0.5         0.000000    1.405405   \n",
              "3    ...    100.000000    2.922078      0.342222         0.548141    0.267670   \n",
              "4    ...    100.000000   15.833333      0.063158         0.027108    4.098765   \n",
              "..   ...           ...         ...           ...              ...         ...   \n",
              "141  ...     77.777778         1.0           1.0         0.566735   20.115217   \n",
              "142  ...     80.952381        29.0      0.034483         0.031746    0.155941   \n",
              "143  ...     70.000000   16.142857      0.061947         0.709046    0.204602   \n",
              "144  ...     84.210526    0.046025     21.727273         0.000503   84.035211   \n",
              "145  ...     92.307692    0.424858      2.353728         0.022266  386.186170   \n",
              "\n",
              "    FavoritesCount  NamesRatio  UrlRatio MentionRatio    NameSim  \n",
              "0               62    0.928571  0.116162     0.000000  81.481481  \n",
              "1                8    2.142857  0.216981     0.000000  27.272727  \n",
              "2                0    1.222222  0.296774     0.000000  90.000000  \n",
              "3              575    1.750000  0.302632     0.000000  54.545455  \n",
              "4               27    3.333333  0.741935     0.193548   0.000000  \n",
              "..             ...         ...       ...          ...        ...  \n",
              "141           5244    0.700000  0.000000     0.130435  35.294118  \n",
              "142              2    0.700000  0.083942     0.021898  23.529412  \n",
              "143            290    0.857143  0.092742     0.000000  84.615385  \n",
              "144              6    0.750000  0.085502     0.000000  66.666667  \n",
              "145          11316    3.250000  0.082734     0.000000  47.058824  \n",
              "\n",
              "[146 rows x 23 columns]"
            ],
            "text/html": [
              "\n",
              "  <div id=\"df-fcf38bfa-b0cb-45a2-9cca-2e1af74e19d2\">\n",
              "    <div class=\"colab-df-container\">\n",
              "      <div>\n",
              "<style scoped>\n",
              "    .dataframe tbody tr th:only-of-type {\n",
              "        vertical-align: middle;\n",
              "    }\n",
              "\n",
              "    .dataframe tbody tr th {\n",
              "        vertical-align: top;\n",
              "    }\n",
              "\n",
              "    .dataframe thead th {\n",
              "        text-align: right;\n",
              "    }\n",
              "</style>\n",
              "<table border=\"1\" class=\"dataframe\">\n",
              "  <thead>\n",
              "    <tr style=\"text-align: right;\">\n",
              "      <th></th>\n",
              "      <th>UserID</th>\n",
              "      <th>AccountAge</th>\n",
              "      <th>FollowersCount</th>\n",
              "      <th>FriendsCount</th>\n",
              "      <th>StatusesCount</th>\n",
              "      <th>DigitsCountInName</th>\n",
              "      <th>TweetLen</th>\n",
              "      <th>UserNameLen</th>\n",
              "      <th>ScreenNameLen</th>\n",
              "      <th>TweetRandomness</th>\n",
              "      <th>...</th>\n",
              "      <th>LexRichWithUU</th>\n",
              "      <th>Friendship</th>\n",
              "      <th>Followership</th>\n",
              "      <th>Interestingness</th>\n",
              "      <th>Activeness</th>\n",
              "      <th>FavoritesCount</th>\n",
              "      <th>NamesRatio</th>\n",
              "      <th>UrlRatio</th>\n",
              "      <th>MentionRatio</th>\n",
              "      <th>NameSim</th>\n",
              "    </tr>\n",
              "  </thead>\n",
              "  <tbody>\n",
              "    <tr>\n",
              "      <th>0</th>\n",
              "      <td>1305152759625166848</td>\n",
              "      <td>662</td>\n",
              "      <td>70</td>\n",
              "      <td>13</td>\n",
              "      <td>9966</td>\n",
              "      <td>0</td>\n",
              "      <td>198</td>\n",
              "      <td>14</td>\n",
              "      <td>13</td>\n",
              "      <td>0.024336</td>\n",
              "      <td>...</td>\n",
              "      <td>72.727273</td>\n",
              "      <td>0.185714</td>\n",
              "      <td>5.384615</td>\n",
              "      <td>0.006221</td>\n",
              "      <td>15.054381</td>\n",
              "      <td>62</td>\n",
              "      <td>0.928571</td>\n",
              "      <td>0.116162</td>\n",
              "      <td>0.000000</td>\n",
              "      <td>81.481481</td>\n",
              "    </tr>\n",
              "    <tr>\n",
              "      <th>1</th>\n",
              "      <td>1369694586294075393</td>\n",
              "      <td>483</td>\n",
              "      <td>391</td>\n",
              "      <td>957</td>\n",
              "      <td>917</td>\n",
              "      <td>0</td>\n",
              "      <td>212</td>\n",
              "      <td>7</td>\n",
              "      <td>15</td>\n",
              "      <td>0.023765</td>\n",
              "      <td>...</td>\n",
              "      <td>66.666667</td>\n",
              "      <td>2.44757</td>\n",
              "      <td>0.408568</td>\n",
              "      <td>0.008724</td>\n",
              "      <td>1.898551</td>\n",
              "      <td>8</td>\n",
              "      <td>2.142857</td>\n",
              "      <td>0.216981</td>\n",
              "      <td>0.000000</td>\n",
              "      <td>27.272727</td>\n",
              "    </tr>\n",
              "    <tr>\n",
              "      <th>2</th>\n",
              "      <td>1531613498920550403</td>\n",
              "      <td>37</td>\n",
              "      <td>10</td>\n",
              "      <td>20</td>\n",
              "      <td>52</td>\n",
              "      <td>2</td>\n",
              "      <td>155</td>\n",
              "      <td>9</td>\n",
              "      <td>11</td>\n",
              "      <td>0.034003</td>\n",
              "      <td>...</td>\n",
              "      <td>86.956522</td>\n",
              "      <td>2.0</td>\n",
              "      <td>0.5</td>\n",
              "      <td>0.000000</td>\n",
              "      <td>1.405405</td>\n",
              "      <td>0</td>\n",
              "      <td>1.222222</td>\n",
              "      <td>0.296774</td>\n",
              "      <td>0.000000</td>\n",
              "      <td>90.000000</td>\n",
              "    </tr>\n",
              "    <tr>\n",
              "      <th>3</th>\n",
              "      <td>390588121</td>\n",
              "      <td>3919</td>\n",
              "      <td>77</td>\n",
              "      <td>225</td>\n",
              "      <td>1049</td>\n",
              "      <td>0</td>\n",
              "      <td>76</td>\n",
              "      <td>4</td>\n",
              "      <td>7</td>\n",
              "      <td>0.060785</td>\n",
              "      <td>...</td>\n",
              "      <td>100.000000</td>\n",
              "      <td>2.922078</td>\n",
              "      <td>0.342222</td>\n",
              "      <td>0.548141</td>\n",
              "      <td>0.267670</td>\n",
              "      <td>575</td>\n",
              "      <td>1.750000</td>\n",
              "      <td>0.302632</td>\n",
              "      <td>0.000000</td>\n",
              "      <td>54.545455</td>\n",
              "    </tr>\n",
              "    <tr>\n",
              "      <th>4</th>\n",
              "      <td>1456880622291456001</td>\n",
              "      <td>243</td>\n",
              "      <td>18</td>\n",
              "      <td>285</td>\n",
              "      <td>996</td>\n",
              "      <td>0</td>\n",
              "      <td>31</td>\n",
              "      <td>3</td>\n",
              "      <td>10</td>\n",
              "      <td>0.143674</td>\n",
              "      <td>...</td>\n",
              "      <td>100.000000</td>\n",
              "      <td>15.833333</td>\n",
              "      <td>0.063158</td>\n",
              "      <td>0.027108</td>\n",
              "      <td>4.098765</td>\n",
              "      <td>27</td>\n",
              "      <td>3.333333</td>\n",
              "      <td>0.741935</td>\n",
              "      <td>0.193548</td>\n",
              "      <td>0.000000</td>\n",
              "    </tr>\n",
              "    <tr>\n",
              "      <th>...</th>\n",
              "      <td>...</td>\n",
              "      <td>...</td>\n",
              "      <td>...</td>\n",
              "      <td>...</td>\n",
              "      <td>...</td>\n",
              "      <td>...</td>\n",
              "      <td>...</td>\n",
              "      <td>...</td>\n",
              "      <td>...</td>\n",
              "      <td>...</td>\n",
              "      <td>...</td>\n",
              "      <td>...</td>\n",
              "      <td>...</td>\n",
              "      <td>...</td>\n",
              "      <td>...</td>\n",
              "      <td>...</td>\n",
              "      <td>...</td>\n",
              "      <td>...</td>\n",
              "      <td>...</td>\n",
              "      <td>...</td>\n",
              "      <td>...</td>\n",
              "    </tr>\n",
              "    <tr>\n",
              "      <th>141</th>\n",
              "      <td>1378181226993840131</td>\n",
              "      <td>460</td>\n",
              "      <td>2840</td>\n",
              "      <td>2840</td>\n",
              "      <td>9253</td>\n",
              "      <td>0</td>\n",
              "      <td>69</td>\n",
              "      <td>10</td>\n",
              "      <td>7</td>\n",
              "      <td>0.065228</td>\n",
              "      <td>...</td>\n",
              "      <td>77.777778</td>\n",
              "      <td>1.0</td>\n",
              "      <td>1.0</td>\n",
              "      <td>0.566735</td>\n",
              "      <td>20.115217</td>\n",
              "      <td>5244</td>\n",
              "      <td>0.700000</td>\n",
              "      <td>0.000000</td>\n",
              "      <td>0.130435</td>\n",
              "      <td>35.294118</td>\n",
              "    </tr>\n",
              "    <tr>\n",
              "      <th>142</th>\n",
              "      <td>1398535592460255233</td>\n",
              "      <td>404</td>\n",
              "      <td>2</td>\n",
              "      <td>58</td>\n",
              "      <td>63</td>\n",
              "      <td>0</td>\n",
              "      <td>274</td>\n",
              "      <td>10</td>\n",
              "      <td>7</td>\n",
              "      <td>0.017427</td>\n",
              "      <td>...</td>\n",
              "      <td>80.952381</td>\n",
              "      <td>29.0</td>\n",
              "      <td>0.034483</td>\n",
              "      <td>0.031746</td>\n",
              "      <td>0.155941</td>\n",
              "      <td>2</td>\n",
              "      <td>0.700000</td>\n",
              "      <td>0.083942</td>\n",
              "      <td>0.021898</td>\n",
              "      <td>23.529412</td>\n",
              "    </tr>\n",
              "    <tr>\n",
              "      <th>143</th>\n",
              "      <td>820561652168830976</td>\n",
              "      <td>1999</td>\n",
              "      <td>21</td>\n",
              "      <td>339</td>\n",
              "      <td>409</td>\n",
              "      <td>0</td>\n",
              "      <td>248</td>\n",
              "      <td>14</td>\n",
              "      <td>12</td>\n",
              "      <td>0.020859</td>\n",
              "      <td>...</td>\n",
              "      <td>70.000000</td>\n",
              "      <td>16.142857</td>\n",
              "      <td>0.061947</td>\n",
              "      <td>0.709046</td>\n",
              "      <td>0.204602</td>\n",
              "      <td>290</td>\n",
              "      <td>0.857143</td>\n",
              "      <td>0.092742</td>\n",
              "      <td>0.000000</td>\n",
              "      <td>84.615385</td>\n",
              "    </tr>\n",
              "    <tr>\n",
              "      <th>144</th>\n",
              "      <td>1493556582604750848</td>\n",
              "      <td>142</td>\n",
              "      <td>239</td>\n",
              "      <td>11</td>\n",
              "      <td>11933</td>\n",
              "      <td>0</td>\n",
              "      <td>269</td>\n",
              "      <td>12</td>\n",
              "      <td>9</td>\n",
              "      <td>0.018165</td>\n",
              "      <td>...</td>\n",
              "      <td>84.210526</td>\n",
              "      <td>0.046025</td>\n",
              "      <td>21.727273</td>\n",
              "      <td>0.000503</td>\n",
              "      <td>84.035211</td>\n",
              "      <td>6</td>\n",
              "      <td>0.750000</td>\n",
              "      <td>0.085502</td>\n",
              "      <td>0.000000</td>\n",
              "      <td>66.666667</td>\n",
              "    </tr>\n",
              "    <tr>\n",
              "      <th>145</th>\n",
              "      <td>1067955300538318854</td>\n",
              "      <td>1316</td>\n",
              "      <td>1231</td>\n",
              "      <td>523</td>\n",
              "      <td>508221</td>\n",
              "      <td>1</td>\n",
              "      <td>278</td>\n",
              "      <td>4</td>\n",
              "      <td>13</td>\n",
              "      <td>0.018415</td>\n",
              "      <td>...</td>\n",
              "      <td>92.307692</td>\n",
              "      <td>0.424858</td>\n",
              "      <td>2.353728</td>\n",
              "      <td>0.022266</td>\n",
              "      <td>386.186170</td>\n",
              "      <td>11316</td>\n",
              "      <td>3.250000</td>\n",
              "      <td>0.082734</td>\n",
              "      <td>0.000000</td>\n",
              "      <td>47.058824</td>\n",
              "    </tr>\n",
              "  </tbody>\n",
              "</table>\n",
              "<p>146 rows × 23 columns</p>\n",
              "</div>\n",
              "      <button class=\"colab-df-convert\" onclick=\"convertToInteractive('df-fcf38bfa-b0cb-45a2-9cca-2e1af74e19d2')\"\n",
              "              title=\"Convert this dataframe to an interactive table.\"\n",
              "              style=\"display:none;\">\n",
              "        \n",
              "  <svg xmlns=\"http://www.w3.org/2000/svg\" height=\"24px\"viewBox=\"0 0 24 24\"\n",
              "       width=\"24px\">\n",
              "    <path d=\"M0 0h24v24H0V0z\" fill=\"none\"/>\n",
              "    <path d=\"M18.56 5.44l.94 2.06.94-2.06 2.06-.94-2.06-.94-.94-2.06-.94 2.06-2.06.94zm-11 1L8.5 8.5l.94-2.06 2.06-.94-2.06-.94L8.5 2.5l-.94 2.06-2.06.94zm10 10l.94 2.06.94-2.06 2.06-.94-2.06-.94-.94-2.06-.94 2.06-2.06.94z\"/><path d=\"M17.41 7.96l-1.37-1.37c-.4-.4-.92-.59-1.43-.59-.52 0-1.04.2-1.43.59L10.3 9.45l-7.72 7.72c-.78.78-.78 2.05 0 2.83L4 21.41c.39.39.9.59 1.41.59.51 0 1.02-.2 1.41-.59l7.78-7.78 2.81-2.81c.8-.78.8-2.07 0-2.86zM5.41 20L4 18.59l7.72-7.72 1.47 1.35L5.41 20z\"/>\n",
              "  </svg>\n",
              "      </button>\n",
              "      \n",
              "  <style>\n",
              "    .colab-df-container {\n",
              "      display:flex;\n",
              "      flex-wrap:wrap;\n",
              "      gap: 12px;\n",
              "    }\n",
              "\n",
              "    .colab-df-convert {\n",
              "      background-color: #E8F0FE;\n",
              "      border: none;\n",
              "      border-radius: 50%;\n",
              "      cursor: pointer;\n",
              "      display: none;\n",
              "      fill: #1967D2;\n",
              "      height: 32px;\n",
              "      padding: 0 0 0 0;\n",
              "      width: 32px;\n",
              "    }\n",
              "\n",
              "    .colab-df-convert:hover {\n",
              "      background-color: #E2EBFA;\n",
              "      box-shadow: 0px 1px 2px rgba(60, 64, 67, 0.3), 0px 1px 3px 1px rgba(60, 64, 67, 0.15);\n",
              "      fill: #174EA6;\n",
              "    }\n",
              "\n",
              "    [theme=dark] .colab-df-convert {\n",
              "      background-color: #3B4455;\n",
              "      fill: #D2E3FC;\n",
              "    }\n",
              "\n",
              "    [theme=dark] .colab-df-convert:hover {\n",
              "      background-color: #434B5C;\n",
              "      box-shadow: 0px 1px 3px 1px rgba(0, 0, 0, 0.15);\n",
              "      filter: drop-shadow(0px 1px 2px rgba(0, 0, 0, 0.3));\n",
              "      fill: #FFFFFF;\n",
              "    }\n",
              "  </style>\n",
              "\n",
              "      <script>\n",
              "        const buttonEl =\n",
              "          document.querySelector('#df-fcf38bfa-b0cb-45a2-9cca-2e1af74e19d2 button.colab-df-convert');\n",
              "        buttonEl.style.display =\n",
              "          google.colab.kernel.accessAllowed ? 'block' : 'none';\n",
              "\n",
              "        async function convertToInteractive(key) {\n",
              "          const element = document.querySelector('#df-fcf38bfa-b0cb-45a2-9cca-2e1af74e19d2');\n",
              "          const dataTable =\n",
              "            await google.colab.kernel.invokeFunction('convertToInteractive',\n",
              "                                                     [key], {});\n",
              "          if (!dataTable) return;\n",
              "\n",
              "          const docLinkHtml = 'Like what you see? Visit the ' +\n",
              "            '<a target=\"_blank\" href=https://colab.research.google.com/notebooks/data_table.ipynb>data table notebook</a>'\n",
              "            + ' to learn more about interactive tables.';\n",
              "          element.innerHTML = '';\n",
              "          dataTable['output_type'] = 'display_data';\n",
              "          await google.colab.output.renderOutput(dataTable, element);\n",
              "          const docLink = document.createElement('div');\n",
              "          docLink.innerHTML = docLinkHtml;\n",
              "          element.appendChild(docLink);\n",
              "        }\n",
              "      </script>\n",
              "    </div>\n",
              "  </div>\n",
              "  "
            ]
          },
          "metadata": {},
          "execution_count": 14
        }
      ]
    },
    {
      "cell_type": "code",
      "source": [
        "lu_full_df = create_df(lu_dict, 'lu_full_df')"
      ],
      "metadata": {
        "id": "dIPoMHrBWfFG"
      },
      "execution_count": 12,
      "outputs": []
    },
    {
      "cell_type": "code",
      "source": [
        "lu_full_df"
      ],
      "metadata": {
        "colab": {
          "base_uri": "https://localhost:8080/",
          "height": 487
        },
        "id": "s-Jl2oeIYDbi",
        "outputId": "45b20ef5-f961-4666-983b-ca06e9fe227b"
      },
      "execution_count": 13,
      "outputs": [
        {
          "output_type": "execute_result",
          "data": {
            "text/plain": [
              "                  UserID AccountAge  FollowersCount  FriendsCount  \\\n",
              "0    1406696255917412353        381          7313.0        4426.0   \n",
              "1              320080520       4036           885.0        1173.0   \n",
              "2    1098117872549650432       1233          1334.0        1772.0   \n",
              "3    1305152759625166848        662            70.0          13.0   \n",
              "4    1492814736404074497        144          1473.0        1390.0   \n",
              "..                   ...        ...             ...           ...   \n",
              "266  1348987504985133057        541          2458.0        2935.0   \n",
              "267            417547297       3881          3517.0        4321.0   \n",
              "268  1346800677620645888        547          3767.0        3874.0   \n",
              "269  1500831915234172931        122             1.0          21.0   \n",
              "270  1474532773968814080        194          1323.0        1322.0   \n",
              "\n",
              "     StatusesCount DigitsCountInName TweetLen UserNameLen ScreenNameLen  \\\n",
              "0          28069.0                 8       94           4            12   \n",
              "1          37827.0                 0      100          10            10   \n",
              "2          19234.0                 0       60          10            11   \n",
              "3           9966.0                 0      198          14            13   \n",
              "4           2590.0                 2      140          19            10   \n",
              "..             ...               ...      ...         ...           ...   \n",
              "266         5031.0                 0       67          12            11   \n",
              "267        24915.0                 0       35          12            12   \n",
              "268        22241.0                 2      140           9             6   \n",
              "269          350.0                 0       38          12            12   \n",
              "270          896.0                 0       87           9            11   \n",
              "\n",
              "    TweetRandomness  ... LexRichWithUU  Friendship  Followership  \\\n",
              "0           0.05254  ...     81.818182    0.605224      1.652282   \n",
              "1          0.051205  ...          80.0    1.325424      0.754476   \n",
              "2          0.077151  ...          75.0    1.328336      0.752822   \n",
              "3          0.024336  ...     72.727273    0.185714      5.384615   \n",
              "4          0.033653  ...     95.833333    0.943652      1.059712   \n",
              "..              ...  ...           ...         ...           ...   \n",
              "266        0.070268  ...          80.0     1.19406      0.837479   \n",
              "267        0.130625  ...         100.0    1.228604      0.813932   \n",
              "268        0.031003  ...     96.428571    1.028405       0.97238   \n",
              "269        0.110829  ...     83.333333        21.0      0.047619   \n",
              "270        0.052009  ...     84.615385    0.999244      1.000756   \n",
              "\n",
              "    Interestingness Activeness FavoritesCount  NamesRatio  UrlRatio  \\\n",
              "0          1.832876  73.671916        51447.0    3.000000  0.244681   \n",
              "1          0.854733   9.372398        32332.0    1.000000      0.23   \n",
              "2          1.155506  15.599351        22225.0    1.100000  0.383333   \n",
              "3          0.006221  15.054381           62.0    0.928571  0.116162   \n",
              "4          1.632046  17.986111         4227.0    0.526316       0.0   \n",
              "..              ...        ...            ...         ...       ...   \n",
              "266       13.672828   9.299445        68788.0    0.916667  0.343284   \n",
              "267        0.794582   6.419737        19797.0    1.000000  0.657143   \n",
              "268        1.784137  40.659963        39681.0    0.666667       0.0   \n",
              "269        0.468571   2.868852          164.0    1.000000  0.605263   \n",
              "270        0.593750   4.618557          532.0    1.222222       0.0   \n",
              "\n",
              "     MentionRatio    NameSim  \n",
              "0             0.0  50.000000  \n",
              "1            0.38  80.000000  \n",
              "2        0.166667  47.619048  \n",
              "3             0.0  81.481481  \n",
              "4        0.071429  13.793103  \n",
              "..            ...        ...  \n",
              "266           0.0  43.478261  \n",
              "267      0.285714  16.666667  \n",
              "268          0.05   0.000000  \n",
              "269           0.0  91.666667  \n",
              "270      0.149425  20.000000  \n",
              "\n",
              "[271 rows x 23 columns]"
            ],
            "text/html": [
              "\n",
              "  <div id=\"df-ad59126c-e19c-4ef9-bc10-3e4ab30160fc\">\n",
              "    <div class=\"colab-df-container\">\n",
              "      <div>\n",
              "<style scoped>\n",
              "    .dataframe tbody tr th:only-of-type {\n",
              "        vertical-align: middle;\n",
              "    }\n",
              "\n",
              "    .dataframe tbody tr th {\n",
              "        vertical-align: top;\n",
              "    }\n",
              "\n",
              "    .dataframe thead th {\n",
              "        text-align: right;\n",
              "    }\n",
              "</style>\n",
              "<table border=\"1\" class=\"dataframe\">\n",
              "  <thead>\n",
              "    <tr style=\"text-align: right;\">\n",
              "      <th></th>\n",
              "      <th>UserID</th>\n",
              "      <th>AccountAge</th>\n",
              "      <th>FollowersCount</th>\n",
              "      <th>FriendsCount</th>\n",
              "      <th>StatusesCount</th>\n",
              "      <th>DigitsCountInName</th>\n",
              "      <th>TweetLen</th>\n",
              "      <th>UserNameLen</th>\n",
              "      <th>ScreenNameLen</th>\n",
              "      <th>TweetRandomness</th>\n",
              "      <th>...</th>\n",
              "      <th>LexRichWithUU</th>\n",
              "      <th>Friendship</th>\n",
              "      <th>Followership</th>\n",
              "      <th>Interestingness</th>\n",
              "      <th>Activeness</th>\n",
              "      <th>FavoritesCount</th>\n",
              "      <th>NamesRatio</th>\n",
              "      <th>UrlRatio</th>\n",
              "      <th>MentionRatio</th>\n",
              "      <th>NameSim</th>\n",
              "    </tr>\n",
              "  </thead>\n",
              "  <tbody>\n",
              "    <tr>\n",
              "      <th>0</th>\n",
              "      <td>1406696255917412353</td>\n",
              "      <td>381</td>\n",
              "      <td>7313.0</td>\n",
              "      <td>4426.0</td>\n",
              "      <td>28069.0</td>\n",
              "      <td>8</td>\n",
              "      <td>94</td>\n",
              "      <td>4</td>\n",
              "      <td>12</td>\n",
              "      <td>0.05254</td>\n",
              "      <td>...</td>\n",
              "      <td>81.818182</td>\n",
              "      <td>0.605224</td>\n",
              "      <td>1.652282</td>\n",
              "      <td>1.832876</td>\n",
              "      <td>73.671916</td>\n",
              "      <td>51447.0</td>\n",
              "      <td>3.000000</td>\n",
              "      <td>0.244681</td>\n",
              "      <td>0.0</td>\n",
              "      <td>50.000000</td>\n",
              "    </tr>\n",
              "    <tr>\n",
              "      <th>1</th>\n",
              "      <td>320080520</td>\n",
              "      <td>4036</td>\n",
              "      <td>885.0</td>\n",
              "      <td>1173.0</td>\n",
              "      <td>37827.0</td>\n",
              "      <td>0</td>\n",
              "      <td>100</td>\n",
              "      <td>10</td>\n",
              "      <td>10</td>\n",
              "      <td>0.051205</td>\n",
              "      <td>...</td>\n",
              "      <td>80.0</td>\n",
              "      <td>1.325424</td>\n",
              "      <td>0.754476</td>\n",
              "      <td>0.854733</td>\n",
              "      <td>9.372398</td>\n",
              "      <td>32332.0</td>\n",
              "      <td>1.000000</td>\n",
              "      <td>0.23</td>\n",
              "      <td>0.38</td>\n",
              "      <td>80.000000</td>\n",
              "    </tr>\n",
              "    <tr>\n",
              "      <th>2</th>\n",
              "      <td>1098117872549650432</td>\n",
              "      <td>1233</td>\n",
              "      <td>1334.0</td>\n",
              "      <td>1772.0</td>\n",
              "      <td>19234.0</td>\n",
              "      <td>0</td>\n",
              "      <td>60</td>\n",
              "      <td>10</td>\n",
              "      <td>11</td>\n",
              "      <td>0.077151</td>\n",
              "      <td>...</td>\n",
              "      <td>75.0</td>\n",
              "      <td>1.328336</td>\n",
              "      <td>0.752822</td>\n",
              "      <td>1.155506</td>\n",
              "      <td>15.599351</td>\n",
              "      <td>22225.0</td>\n",
              "      <td>1.100000</td>\n",
              "      <td>0.383333</td>\n",
              "      <td>0.166667</td>\n",
              "      <td>47.619048</td>\n",
              "    </tr>\n",
              "    <tr>\n",
              "      <th>3</th>\n",
              "      <td>1305152759625166848</td>\n",
              "      <td>662</td>\n",
              "      <td>70.0</td>\n",
              "      <td>13.0</td>\n",
              "      <td>9966.0</td>\n",
              "      <td>0</td>\n",
              "      <td>198</td>\n",
              "      <td>14</td>\n",
              "      <td>13</td>\n",
              "      <td>0.024336</td>\n",
              "      <td>...</td>\n",
              "      <td>72.727273</td>\n",
              "      <td>0.185714</td>\n",
              "      <td>5.384615</td>\n",
              "      <td>0.006221</td>\n",
              "      <td>15.054381</td>\n",
              "      <td>62.0</td>\n",
              "      <td>0.928571</td>\n",
              "      <td>0.116162</td>\n",
              "      <td>0.0</td>\n",
              "      <td>81.481481</td>\n",
              "    </tr>\n",
              "    <tr>\n",
              "      <th>4</th>\n",
              "      <td>1492814736404074497</td>\n",
              "      <td>144</td>\n",
              "      <td>1473.0</td>\n",
              "      <td>1390.0</td>\n",
              "      <td>2590.0</td>\n",
              "      <td>2</td>\n",
              "      <td>140</td>\n",
              "      <td>19</td>\n",
              "      <td>10</td>\n",
              "      <td>0.033653</td>\n",
              "      <td>...</td>\n",
              "      <td>95.833333</td>\n",
              "      <td>0.943652</td>\n",
              "      <td>1.059712</td>\n",
              "      <td>1.632046</td>\n",
              "      <td>17.986111</td>\n",
              "      <td>4227.0</td>\n",
              "      <td>0.526316</td>\n",
              "      <td>0.0</td>\n",
              "      <td>0.071429</td>\n",
              "      <td>13.793103</td>\n",
              "    </tr>\n",
              "    <tr>\n",
              "      <th>...</th>\n",
              "      <td>...</td>\n",
              "      <td>...</td>\n",
              "      <td>...</td>\n",
              "      <td>...</td>\n",
              "      <td>...</td>\n",
              "      <td>...</td>\n",
              "      <td>...</td>\n",
              "      <td>...</td>\n",
              "      <td>...</td>\n",
              "      <td>...</td>\n",
              "      <td>...</td>\n",
              "      <td>...</td>\n",
              "      <td>...</td>\n",
              "      <td>...</td>\n",
              "      <td>...</td>\n",
              "      <td>...</td>\n",
              "      <td>...</td>\n",
              "      <td>...</td>\n",
              "      <td>...</td>\n",
              "      <td>...</td>\n",
              "      <td>...</td>\n",
              "    </tr>\n",
              "    <tr>\n",
              "      <th>266</th>\n",
              "      <td>1348987504985133057</td>\n",
              "      <td>541</td>\n",
              "      <td>2458.0</td>\n",
              "      <td>2935.0</td>\n",
              "      <td>5031.0</td>\n",
              "      <td>0</td>\n",
              "      <td>67</td>\n",
              "      <td>12</td>\n",
              "      <td>11</td>\n",
              "      <td>0.070268</td>\n",
              "      <td>...</td>\n",
              "      <td>80.0</td>\n",
              "      <td>1.19406</td>\n",
              "      <td>0.837479</td>\n",
              "      <td>13.672828</td>\n",
              "      <td>9.299445</td>\n",
              "      <td>68788.0</td>\n",
              "      <td>0.916667</td>\n",
              "      <td>0.343284</td>\n",
              "      <td>0.0</td>\n",
              "      <td>43.478261</td>\n",
              "    </tr>\n",
              "    <tr>\n",
              "      <th>267</th>\n",
              "      <td>417547297</td>\n",
              "      <td>3881</td>\n",
              "      <td>3517.0</td>\n",
              "      <td>4321.0</td>\n",
              "      <td>24915.0</td>\n",
              "      <td>0</td>\n",
              "      <td>35</td>\n",
              "      <td>12</td>\n",
              "      <td>12</td>\n",
              "      <td>0.130625</td>\n",
              "      <td>...</td>\n",
              "      <td>100.0</td>\n",
              "      <td>1.228604</td>\n",
              "      <td>0.813932</td>\n",
              "      <td>0.794582</td>\n",
              "      <td>6.419737</td>\n",
              "      <td>19797.0</td>\n",
              "      <td>1.000000</td>\n",
              "      <td>0.657143</td>\n",
              "      <td>0.285714</td>\n",
              "      <td>16.666667</td>\n",
              "    </tr>\n",
              "    <tr>\n",
              "      <th>268</th>\n",
              "      <td>1346800677620645888</td>\n",
              "      <td>547</td>\n",
              "      <td>3767.0</td>\n",
              "      <td>3874.0</td>\n",
              "      <td>22241.0</td>\n",
              "      <td>2</td>\n",
              "      <td>140</td>\n",
              "      <td>9</td>\n",
              "      <td>6</td>\n",
              "      <td>0.031003</td>\n",
              "      <td>...</td>\n",
              "      <td>96.428571</td>\n",
              "      <td>1.028405</td>\n",
              "      <td>0.97238</td>\n",
              "      <td>1.784137</td>\n",
              "      <td>40.659963</td>\n",
              "      <td>39681.0</td>\n",
              "      <td>0.666667</td>\n",
              "      <td>0.0</td>\n",
              "      <td>0.05</td>\n",
              "      <td>0.000000</td>\n",
              "    </tr>\n",
              "    <tr>\n",
              "      <th>269</th>\n",
              "      <td>1500831915234172931</td>\n",
              "      <td>122</td>\n",
              "      <td>1.0</td>\n",
              "      <td>21.0</td>\n",
              "      <td>350.0</td>\n",
              "      <td>0</td>\n",
              "      <td>38</td>\n",
              "      <td>12</td>\n",
              "      <td>12</td>\n",
              "      <td>0.110829</td>\n",
              "      <td>...</td>\n",
              "      <td>83.333333</td>\n",
              "      <td>21.0</td>\n",
              "      <td>0.047619</td>\n",
              "      <td>0.468571</td>\n",
              "      <td>2.868852</td>\n",
              "      <td>164.0</td>\n",
              "      <td>1.000000</td>\n",
              "      <td>0.605263</td>\n",
              "      <td>0.0</td>\n",
              "      <td>91.666667</td>\n",
              "    </tr>\n",
              "    <tr>\n",
              "      <th>270</th>\n",
              "      <td>1474532773968814080</td>\n",
              "      <td>194</td>\n",
              "      <td>1323.0</td>\n",
              "      <td>1322.0</td>\n",
              "      <td>896.0</td>\n",
              "      <td>0</td>\n",
              "      <td>87</td>\n",
              "      <td>9</td>\n",
              "      <td>11</td>\n",
              "      <td>0.052009</td>\n",
              "      <td>...</td>\n",
              "      <td>84.615385</td>\n",
              "      <td>0.999244</td>\n",
              "      <td>1.000756</td>\n",
              "      <td>0.593750</td>\n",
              "      <td>4.618557</td>\n",
              "      <td>532.0</td>\n",
              "      <td>1.222222</td>\n",
              "      <td>0.0</td>\n",
              "      <td>0.149425</td>\n",
              "      <td>20.000000</td>\n",
              "    </tr>\n",
              "  </tbody>\n",
              "</table>\n",
              "<p>271 rows × 23 columns</p>\n",
              "</div>\n",
              "      <button class=\"colab-df-convert\" onclick=\"convertToInteractive('df-ad59126c-e19c-4ef9-bc10-3e4ab30160fc')\"\n",
              "              title=\"Convert this dataframe to an interactive table.\"\n",
              "              style=\"display:none;\">\n",
              "        \n",
              "  <svg xmlns=\"http://www.w3.org/2000/svg\" height=\"24px\"viewBox=\"0 0 24 24\"\n",
              "       width=\"24px\">\n",
              "    <path d=\"M0 0h24v24H0V0z\" fill=\"none\"/>\n",
              "    <path d=\"M18.56 5.44l.94 2.06.94-2.06 2.06-.94-2.06-.94-.94-2.06-.94 2.06-2.06.94zm-11 1L8.5 8.5l.94-2.06 2.06-.94-2.06-.94L8.5 2.5l-.94 2.06-2.06.94zm10 10l.94 2.06.94-2.06 2.06-.94-2.06-.94-.94-2.06-.94 2.06-2.06.94z\"/><path d=\"M17.41 7.96l-1.37-1.37c-.4-.4-.92-.59-1.43-.59-.52 0-1.04.2-1.43.59L10.3 9.45l-7.72 7.72c-.78.78-.78 2.05 0 2.83L4 21.41c.39.39.9.59 1.41.59.51 0 1.02-.2 1.41-.59l7.78-7.78 2.81-2.81c.8-.78.8-2.07 0-2.86zM5.41 20L4 18.59l7.72-7.72 1.47 1.35L5.41 20z\"/>\n",
              "  </svg>\n",
              "      </button>\n",
              "      \n",
              "  <style>\n",
              "    .colab-df-container {\n",
              "      display:flex;\n",
              "      flex-wrap:wrap;\n",
              "      gap: 12px;\n",
              "    }\n",
              "\n",
              "    .colab-df-convert {\n",
              "      background-color: #E8F0FE;\n",
              "      border: none;\n",
              "      border-radius: 50%;\n",
              "      cursor: pointer;\n",
              "      display: none;\n",
              "      fill: #1967D2;\n",
              "      height: 32px;\n",
              "      padding: 0 0 0 0;\n",
              "      width: 32px;\n",
              "    }\n",
              "\n",
              "    .colab-df-convert:hover {\n",
              "      background-color: #E2EBFA;\n",
              "      box-shadow: 0px 1px 2px rgba(60, 64, 67, 0.3), 0px 1px 3px 1px rgba(60, 64, 67, 0.15);\n",
              "      fill: #174EA6;\n",
              "    }\n",
              "\n",
              "    [theme=dark] .colab-df-convert {\n",
              "      background-color: #3B4455;\n",
              "      fill: #D2E3FC;\n",
              "    }\n",
              "\n",
              "    [theme=dark] .colab-df-convert:hover {\n",
              "      background-color: #434B5C;\n",
              "      box-shadow: 0px 1px 3px 1px rgba(0, 0, 0, 0.15);\n",
              "      filter: drop-shadow(0px 1px 2px rgba(0, 0, 0, 0.3));\n",
              "      fill: #FFFFFF;\n",
              "    }\n",
              "  </style>\n",
              "\n",
              "      <script>\n",
              "        const buttonEl =\n",
              "          document.querySelector('#df-ad59126c-e19c-4ef9-bc10-3e4ab30160fc button.colab-df-convert');\n",
              "        buttonEl.style.display =\n",
              "          google.colab.kernel.accessAllowed ? 'block' : 'none';\n",
              "\n",
              "        async function convertToInteractive(key) {\n",
              "          const element = document.querySelector('#df-ad59126c-e19c-4ef9-bc10-3e4ab30160fc');\n",
              "          const dataTable =\n",
              "            await google.colab.kernel.invokeFunction('convertToInteractive',\n",
              "                                                     [key], {});\n",
              "          if (!dataTable) return;\n",
              "\n",
              "          const docLinkHtml = 'Like what you see? Visit the ' +\n",
              "            '<a target=\"_blank\" href=https://colab.research.google.com/notebooks/data_table.ipynb>data table notebook</a>'\n",
              "            + ' to learn more about interactive tables.';\n",
              "          element.innerHTML = '';\n",
              "          dataTable['output_type'] = 'display_data';\n",
              "          await google.colab.output.renderOutput(dataTable, element);\n",
              "          const docLink = document.createElement('div');\n",
              "          docLink.innerHTML = docLinkHtml;\n",
              "          element.appendChild(docLink);\n",
              "        }\n",
              "      </script>\n",
              "    </div>\n",
              "  </div>\n",
              "  "
            ]
          },
          "metadata": {},
          "execution_count": 13
        }
      ]
    },
    {
      "cell_type": "markdown",
      "source": [
        "# Coba-coba"
      ],
      "metadata": {
        "id": "4hsUc92ESc6d"
      }
    },
    {
      "cell_type": "code",
      "source": [
        "type(lu_dict)"
      ],
      "metadata": {
        "colab": {
          "base_uri": "https://localhost:8080/"
        },
        "id": "HquGK5QxYvbk",
        "outputId": "f27b7b27-740d-4479-bc07-00aa79a7b199"
      },
      "execution_count": null,
      "outputs": [
        {
          "output_type": "execute_result",
          "data": {
            "text/plain": [
              "dict"
            ]
          },
          "metadata": {},
          "execution_count": 196
        }
      ]
    },
    {
      "cell_type": "code",
      "source": [
        "bot_dict.keys()"
      ],
      "metadata": {
        "colab": {
          "base_uri": "https://localhost:8080/"
        },
        "id": "LDySq9Z0Zesr",
        "outputId": "a22aa787-6e0d-4f86-d1e7-7271ee4dd864"
      },
      "execution_count": null,
      "outputs": [
        {
          "output_type": "execute_result",
          "data": {
            "text/plain": [
              "dict_keys([1305152759625166848, 1369694586294075393, 1531613498920550403, 390588121, 1456880622291456001, 1530797589611786240, 1374561870867140613, 1459094353159155713, 1509399651316764676, 1445716512250023946, 1513065151179620357, 1493532478090657794, 3145446336, 1471467065546469380, 1460185297300307969, 1312857278869979136, 1228386300866125825, 1304289081556267009, 1447813359080935426, 221952715, 919369736021983232, 1253243708624920576, 1298931145170497537, 1480417897121927169, 286079602, 1429480934735192073, 282078384, 1498149345761595392, 1529857750267621376, 1283682850689056768, 803542205637922817, 2226639342, 1448128858679509003, 1233559971532423168, 1500900710577483776, 122296793, 1486225256159518721, 1449915653314342916, 1531523321564520448, 1400323115033403394, 4011194653, 1381937388734177283, 1441201090251288577, 246769169, 1263828349899726850, 2952189942, 1283770362375761921, 1151273959322636288, 1340706600802082817, 1254028454653091840, 1424683172189523973, 1491366495754272771, 3221068856, 1433595226191327243, 1258567597898924034, 1514158310995685382, 1454136132384411648, 704938127123677184, 3242150390, 1424819259067179008, 1252199240471887872, 155483760, 1467473101130657796, 1508994219654135808, 1536495295877754880, 1511039950711492608, 3744238512, 1528534803368538112, 1194466171187130368, 2892393554, 1427689022889992196, 709584167562911744, 1418773481764790275, 115936810, 1472147956757270528, 1227899867814449152, 1258357732735725568, 1147395228661243905, 1424847385725857809, 1482937049129054212, 1482086968251289601, 1308444925306916864, 1437431744035123202, 298715438, 1492355854112534529, 1485113081776975873, 103583153, 1471466832, 1275927437272969216, 1467372888260939777, 1402111092122284049, 1252991244, 1448918200226177030, 2347284884, 1073846310820765697, 1532586812174389248, 1221962355002638341, 233218727, 1210629458719207424, 254601504, 1444077437864669185, 1414109414378725380, 1477588368355573761, 1458008471249379332, 1494907689260175361, 1493206871439667203, 139323726, 115841532, 1443785915613155329, 367625184, 70932668, 1347037239671312386, 1358035632019279872, 1371612164788613123, 1521713087375904768, 1143043797237940224, 1451121716994854916, 1450033256875790342, 1457650129138118659, 1538734462254559233, 1220688468801507333, 1570770624, 1335803130370424833, 1510737497651032065, 1433095754055254016, 1490974919773257728, 1396326750158610432, 1469393227, 1293583045925060609, 1460119176211615746, 1486834962988867587, 1198127472010641409, 259447002, 259191361, 163586591, 1319352421861175300, 1300904646286827521, 892848659552808961, 1304747239814823937, 1455248192635691008, 1531192725139251200, 1341486030, 256571163, 1501440933728251904, 867637274, 1435762837721206789, 3042877141, 1426759979277557760, 403517749, 1172059682568990720, 1577089627, 1037600542090964992, 1490594775938273280, 1534776913142480896, 852721574390022144, 1427362154, 1219307943033630723, 1528519550509019137, 1531985213756252162, 1527633811793915904, 205132394, 2507715108, 1532335489352859648, 1508709337828818945, 1504575251514298368, 1073837383383080960, 1378181226993840131, 1398535592460255233, 1482358444376363009, 1319594866054033408, 1453649797273899008, 1411746201905426434, 1414014630507081731, 1410384150859632640, 1529719218588876801, 1445026162053316610, 1484779405730009092, 1313211300, 1265262339537858560, 822119885559861248, 1269952745227706370, 1293354070036504576, 1304825873690849280, 1200732470502510593, 82255012, 1900086902, 1628886492, 1478500017539141632, 1381644510174666755, 1358080544731328514, 560092234, 1015470151959900162, 1345491215534448641, 58674327, 322670779, 1216550422191587328, 153437047, 824805797297139712, 452911107, 813307777, 1045266090031439873, 2378193756, 3156022172, 820561652168830976, 1493556582604750848])"
            ]
          },
          "metadata": {},
          "execution_count": 200
        }
      ]
    },
    {
      "cell_type": "code",
      "source": [
        "len(lu_dict.keys())"
      ],
      "metadata": {
        "colab": {
          "base_uri": "https://localhost:8080/"
        },
        "id": "wVU9yAvxZLMo",
        "outputId": "455b8074-9e41-4323-c8fa-1fee9fce1039"
      },
      "execution_count": null,
      "outputs": [
        {
          "output_type": "execute_result",
          "data": {
            "text/plain": [
              "286"
            ]
          },
          "metadata": {},
          "execution_count": 197
        }
      ]
    },
    {
      "cell_type": "code",
      "source": [
        "import spacy"
      ],
      "metadata": {
        "id": "iEDLFUNyhdAr"
      },
      "execution_count": null,
      "outputs": []
    },
    {
      "cell_type": "code",
      "source": [
        "df = bot_dict[1531192725139251200]"
      ],
      "metadata": {
        "id": "OD9-4MiLFD2t"
      },
      "execution_count": null,
      "outputs": []
    },
    {
      "cell_type": "code",
      "source": [
        "data = name_sim(df)\n",
        "data"
      ],
      "metadata": {
        "colab": {
          "base_uri": "https://localhost:8080/"
        },
        "id": "2b6DOtyLndQc",
        "outputId": "9abd85cf-4a4b-4d68-9bc3-c656515b8240"
      },
      "execution_count": null,
      "outputs": [
        {
          "output_type": "execute_result",
          "data": {
            "text/plain": [
              "80.0"
            ]
          },
          "metadata": {},
          "execution_count": 244
        }
      ]
    },
    {
      "cell_type": "code",
      "source": [
        "import en_core_web_sm"
      ],
      "metadata": {
        "id": "_5Em8KmgioWa"
      },
      "execution_count": null,
      "outputs": []
    },
    {
      "cell_type": "code",
      "source": [
        "(SequenceMatcher(None, df['name'], df['screen_name']).ratio())*100"
      ],
      "metadata": {
        "colab": {
          "base_uri": "https://localhost:8080/"
        },
        "id": "_NhsX_6wg5bJ",
        "outputId": "5c797273-cf90-4fe7-918f-d73957e7fe50"
      },
      "execution_count": null,
      "outputs": [
        {
          "output_type": "execute_result",
          "data": {
            "text/plain": [
              "80.0"
            ]
          },
          "metadata": {},
          "execution_count": 232
        }
      ]
    },
    {
      "cell_type": "code",
      "source": [
        "mentions = re.findall(\"@([a-zA-Z0-9_]{1,50})\", df['full_text'])"
      ],
      "metadata": {
        "id": "MQgWxwo5dmkV"
      },
      "execution_count": null,
      "outputs": []
    },
    {
      "cell_type": "code",
      "source": [
        "mentions"
      ],
      "metadata": {
        "colab": {
          "base_uri": "https://localhost:8080/"
        },
        "id": "dNSzh6PJf95W",
        "outputId": "64e0337d-4292-4b0c-dba7-5e2e1ecb6e64"
      },
      "execution_count": null,
      "outputs": [
        {
          "output_type": "execute_result",
          "data": {
            "text/plain": [
              "['chogiwabois']"
            ]
          },
          "metadata": {},
          "execution_count": 213
        }
      ]
    },
    {
      "cell_type": "code",
      "source": [
        "mention_char = 0\n",
        "for mention in mentions:\n",
        "  "
      ],
      "metadata": {
        "colab": {
          "base_uri": "https://localhost:8080/"
        },
        "id": "-NL68lA8dwH5",
        "outputId": "24da9602-2019-45d3-eef1-141e0497746c"
      },
      "execution_count": null,
      "outputs": [
        {
          "output_type": "execute_result",
          "data": {
            "text/plain": [
              "['https://t.co/Q1qXiXRcS0', 'https://t.co/BEQkFUkluD']"
            ]
          },
          "metadata": {},
          "execution_count": 206
        }
      ]
    },
    {
      "cell_type": "code",
      "source": [
        "url_char = 0\n",
        "for url in urls:\n",
        "  url_char += len(url)"
      ],
      "metadata": {
        "id": "HIYIMIeveg_a"
      },
      "execution_count": null,
      "outputs": []
    },
    {
      "cell_type": "code",
      "source": [
        "url_char"
      ],
      "metadata": {
        "colab": {
          "base_uri": "https://localhost:8080/"
        },
        "id": "a7xZzfsYenz2",
        "outputId": "81db32e3-e3a3-4949-c0a0-d3f05712f69f"
      },
      "execution_count": null,
      "outputs": [
        {
          "output_type": "execute_result",
          "data": {
            "text/plain": [
              "46"
            ]
          },
          "metadata": {},
          "execution_count": 208
        }
      ]
    },
    {
      "cell_type": "code",
      "source": [
        "data = lex_richness(df)"
      ],
      "metadata": {
        "id": "aajcmRheFMt8"
      },
      "execution_count": null,
      "outputs": []
    },
    {
      "cell_type": "code",
      "source": [
        "data"
      ],
      "metadata": {
        "colab": {
          "base_uri": "https://localhost:8080/"
        },
        "id": "9fL5NbvlHmtC",
        "outputId": "45f1c477-ec60-493a-b639-62d86eb8a55b"
      },
      "execution_count": null,
      "outputs": [
        {
          "output_type": "execute_result",
          "data": {
            "text/plain": [
              "72.72727272727273"
            ]
          },
          "metadata": {},
          "execution_count": 156
        }
      ]
    },
    {
      "cell_type": "code",
      "source": [
        "# d0 = datetime.strptime(df['created_at'],\"%Y-%m-%d %H:%M:%S\")\n",
        "# d1 = datetime.strptime('2022-07-07 15:14:56',\"%Y-%m-%d %H:%M:%S\")\n",
        "# (d1-d0).days"
      ],
      "metadata": {
        "colab": {
          "base_uri": "https://localhost:8080/"
        },
        "id": "3PFvF5D4PKsz",
        "outputId": "d3ccefe8-889c-4afe-f291-e9704fa67b7c"
      },
      "execution_count": null,
      "outputs": [
        {
          "output_type": "execute_result",
          "data": {
            "text/plain": [
              "662"
            ]
          },
          "metadata": {},
          "execution_count": 124
        }
      ]
    },
    {
      "cell_type": "code",
      "source": [
        "# d1 = datetime.now(timezone.utc).strftime(\"%Y-%m-%d %H:%M:%S\")"
      ],
      "metadata": {
        "id": "A7MYhmh9KmmB"
      },
      "execution_count": null,
      "outputs": []
    },
    {
      "cell_type": "code",
      "source": [
        "# d1 = datetime.strptime(d1,'%Y-%m-%d %H:%M:%S')"
      ],
      "metadata": {
        "id": "MoNlRLHfKym8"
      },
      "execution_count": null,
      "outputs": []
    },
    {
      "cell_type": "code",
      "source": [
        "# d1"
      ],
      "metadata": {
        "colab": {
          "base_uri": "https://localhost:8080/"
        },
        "id": "OAd_4qUiN8-X",
        "outputId": "be377263-86df-4d8f-e4df-ba337e94e143"
      },
      "execution_count": null,
      "outputs": [
        {
          "output_type": "execute_result",
          "data": {
            "text/plain": [
              "datetime.datetime(2022, 7, 7, 15, 14, 56)"
            ]
          },
          "metadata": {},
          "execution_count": 117
        }
      ]
    },
    {
      "cell_type": "code",
      "source": [
        "# d1 = datetime.strptime('2022-07-07 15:14:56',\"%Y-%m-%d %H:%M:%S\")"
      ],
      "metadata": {
        "id": "sGxqU6tiNr1g"
      },
      "execution_count": null,
      "outputs": []
    },
    {
      "cell_type": "code",
      "source": [
        "# d0 = datetime.strptime(df['created_at'],'%Y-%m-%d %H:%M:%S')"
      ],
      "metadata": {
        "id": "1fvBPb2uG0jk"
      },
      "execution_count": null,
      "outputs": []
    },
    {
      "cell_type": "code",
      "source": [
        "# (d1-d0).days"
      ],
      "metadata": {
        "colab": {
          "base_uri": "https://localhost:8080/"
        },
        "id": "FuqZqd9CM5C6",
        "outputId": "4d6f4243-50f0-4a87-ba1e-1b1ef84d1df3"
      },
      "execution_count": null,
      "outputs": [
        {
          "output_type": "execute_result",
          "data": {
            "text/plain": [
              "661"
            ]
          },
          "metadata": {},
          "execution_count": 104
        }
      ]
    },
    {
      "cell_type": "code",
      "source": [
        "# d0"
      ],
      "metadata": {
        "colab": {
          "base_uri": "https://localhost:8080/"
        },
        "id": "9HTG0WHWJARf",
        "outputId": "552a61f9-38da-4fcd-9a10-6909aa04ffaf"
      },
      "execution_count": null,
      "outputs": [
        {
          "output_type": "execute_result",
          "data": {
            "text/plain": [
              "datetime.datetime(2020, 9, 13, 14, 34, 36)"
            ]
          },
          "metadata": {},
          "execution_count": 72
        }
      ]
    },
    {
      "cell_type": "code",
      "source": [
        ""
      ],
      "metadata": {
        "id": "hqOg8vRRxKUt"
      },
      "execution_count": null,
      "outputs": []
    }
  ]
}